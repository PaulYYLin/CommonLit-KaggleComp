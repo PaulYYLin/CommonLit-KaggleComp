{
  "nbformat": 4,
  "nbformat_minor": 0,
  "metadata": {
    "colab": {
      "provenance": [],
      "collapsed_sections": [
        "LLaKQK7cO3T7",
        "VTVlcnyOf_xU",
        "U6-sg1dURqcG",
        "pH2Dpr4HSGju",
        "H0Ovt_CdSTVB"
      ],
      "authorship_tag": "ABX9TyNO+JIwAC4cH8ECfnrRhIsb",
      "include_colab_link": true
    },
    "kernelspec": {
      "name": "python3",
      "display_name": "Python 3"
    },
    "language_info": {
      "name": "python"
    }
  },
  "cells": [
    {
      "cell_type": "markdown",
      "metadata": {
        "id": "view-in-github",
        "colab_type": "text"
      },
      "source": [
        "<a href=\"https://colab.research.google.com/github/PaulYYLin/CommonLit-KaggleComp/blob/main/CommonLit_Evaluate_Student_Summaries.ipynb\" target=\"_parent\"><img src=\"https://colab.research.google.com/assets/colab-badge.svg\" alt=\"Open In Colab\"/></a>"
      ]
    },
    {
      "cell_type": "markdown",
      "source": [
        "# Data Connection"
      ],
      "metadata": {
        "id": "LLaKQK7cO3T7"
      }
    },
    {
      "cell_type": "code",
      "execution_count": null,
      "metadata": {
        "id": "Oa9QRSocb_c5"
      },
      "outputs": [],
      "source": [
        "!pip install kaggle\n",
        "from google.colab import files\n",
        "\n",
        "uploaded = files.upload()\n",
        "\n",
        "for fn in uploaded.keys():\n",
        "  print('User uploaded file \"{name}\" with length {length} bytes'.format(\n",
        "      name=fn, length=len(uploaded[fn])))\n",
        "\n",
        "# Then move kaggle.json into the folder where the API expects to find it.\n",
        "!mkdir -p ~/.kaggle/ && mv kaggle.json ~/.kaggle/ && chmod 600 ~/.kaggle/kaggle.json"
      ]
    },
    {
      "cell_type": "code",
      "source": [
        "!kaggle competitions list"
      ],
      "metadata": {
        "id": "IHwQQ8DicSZp"
      },
      "execution_count": null,
      "outputs": []
    },
    {
      "cell_type": "code",
      "source": [
        "!kaggle competitions download \"commonlit-evaluate-student-summaries\""
      ],
      "metadata": {
        "id": "aMAGIlMgcZb1"
      },
      "execution_count": null,
      "outputs": []
    },
    {
      "cell_type": "code",
      "source": [
        "!unzip commonlit-evaluate-student-summaries.zip"
      ],
      "metadata": {
        "id": "8mX_v6PScizG"
      },
      "execution_count": null,
      "outputs": []
    },
    {
      "cell_type": "markdown",
      "source": [
        "# Main Execution"
      ],
      "metadata": {
        "id": "sF-SjvXpO0ep"
      }
    },
    {
      "cell_type": "code",
      "source": [
        "import tensorflow as tf\n",
        "from tensorflow import keras\n",
        "from tensorflow.keras import layers\n",
        "\n",
        "\n",
        "import numpy as np\n",
        "import pandas as pd\n",
        "import datetime\n",
        "import os"
      ],
      "metadata": {
        "id": "rZD61mC9giji"
      },
      "execution_count": null,
      "outputs": []
    },
    {
      "cell_type": "markdown",
      "source": [
        "## Data Preprocess\n",
        "\n",
        "Remove stopwords --> Stem --> Tokenize --> padding --> Vectorized\n"
      ],
      "metadata": {
        "id": "vcOxMo0ScrCw"
      }
    },
    {
      "cell_type": "code",
      "source": [
        "summ_t = pd.read_csv('summaries_train.csv')"
      ],
      "metadata": {
        "id": "i08wOxBCkKP5"
      },
      "execution_count": null,
      "outputs": []
    },
    {
      "cell_type": "code",
      "source": [
        "# Stopwords\n",
        "import nltk\n",
        "from nltk.corpus import stopwords\n",
        "nltk.download('stopwords')\n",
        "stop_words = stopwords.words('english')\n",
        "\n",
        "# Stemming\n",
        "from nltk.stem import PorterStemmer\n",
        "ps = PorterStemmer()"
      ],
      "metadata": {
        "colab": {
          "base_uri": "https://localhost:8080/"
        },
        "id": "YJaZS93EhoXh",
        "outputId": "12a57637-1ca8-4b2d-fef1-9352bcd10418"
      },
      "execution_count": null,
      "outputs": [
        {
          "output_type": "stream",
          "name": "stderr",
          "text": [
            "[nltk_data] Downloading package stopwords to /root/nltk_data...\n",
            "[nltk_data]   Package stopwords is already up-to-date!\n"
          ]
        }
      ]
    },
    {
      "cell_type": "code",
      "source": [
        "# Preprocess Function\n",
        "def wordProcess(content):\n",
        "  tokens =[]\n",
        "  token = content.split()\n",
        "  for word in token:\n",
        "    if word not in stop_words:\n",
        "      tokens.append(ps.stem(word))\n",
        "\n",
        "  return ' '.join(tokens)"
      ],
      "metadata": {
        "id": "-IUrjW2olvlH"
      },
      "execution_count": null,
      "outputs": []
    },
    {
      "cell_type": "markdown",
      "source": [
        "#### summaries process"
      ],
      "metadata": {
        "id": "uT8ojOIJf59u"
      }
    },
    {
      "cell_type": "code",
      "source": [
        "# Left most freq words num\n",
        "max_len_words = 100\n",
        "\n",
        "# Volcabulary words num\n",
        "top_words = 5000\n",
        "\n",
        "summ_t_text = summ_t.text\n",
        "print(f'Before: {summ_t_text[0]}')\n",
        "\n",
        "# Remove Stopwords, Stemming\n",
        "summ_t_text = summ_t_text.map(wordProcess)\n",
        "tokenizer = tf.keras.preprocessing.text.Tokenizer(num_words=top_words)\n",
        "\n",
        "# Tokenize, Padding, Vectorize\n",
        "tokenizer.fit_on_texts(summ_t_text)\n",
        "summ_t_text = tf.keras.preprocessing.sequence.pad_sequences(tokenizer.texts_to_sequences(summ_t_text), maxlen=max_len_words)\n",
        "\n",
        "print(f'After: {summ_t_text[0]}')\n",
        "\n",
        "print(f'Shape of Data: {summ_t_text.shape}', f'Word token nums: {len(tokenizer.word_index)}', end ='\\r')"
      ],
      "metadata": {
        "id": "Upus12u-l-1y",
        "colab": {
          "base_uri": "https://localhost:8080/"
        },
        "outputId": "36d446b9-1c4a-48ed-a67b-0a8855649fdd"
      },
      "execution_count": null,
      "outputs": [
        {
          "output_type": "stream",
          "name": "stdout",
          "text": [
            "Before: The third wave was an experimentto see how people reacted to a new one leader government. It gained popularity as people wanted to try new things. The students follow anything that is said and start turning on eachother to gain higher power. They had to stop the experement as too many people got to radical with it blindly following there leader\n",
            "After: [   0    0    0    0    0    0    0    0    0    0    0    0    0    0\n",
            "    0    0    0    0    0    0    0    0    0    0    0    0    0    0\n",
            "    0    0    0    0    0    0    0    0    0    0    0    0    0    0\n",
            "    0    0    0    0    0    0    0    0    0    0    0    0    0    0\n",
            "    0    0    0    0    0    2   49   56  326   10 1850  272   20  379\n",
            "  195   11  540 1174   10  132  284  272  266    2   19   86  186  214\n",
            "  107  314 1448  540  245   73   13  548 1407   68   10  172 3776 1780\n",
            "   86  379]\n"
          ]
        }
      ]
    },
    {
      "cell_type": "markdown",
      "source": [
        "#### prompts process"
      ],
      "metadata": {
        "id": "VTVlcnyOf_xU"
      }
    },
    {
      "cell_type": "code",
      "source": [
        "prompt_t = pd.read_csv('prompts_train.csv')"
      ],
      "metadata": {
        "id": "l3wap676gEWr"
      },
      "execution_count": null,
      "outputs": []
    },
    {
      "cell_type": "code",
      "source": [
        "prompt_t_q = prompt_t.prompt_question\n",
        "prompt_t_q = prompt_t_q.map(process)\n",
        "print(f'prompt_question: {prompt_t_q[0]}')"
      ],
      "metadata": {
        "colab": {
          "base_uri": "https://localhost:8080/"
        },
        "id": "xI3Y9fW-q9VX",
        "outputId": "ca7b4842-c52b-4eb0-e8da-f61afa1cbc52"
      },
      "execution_count": null,
      "outputs": [
        {
          "output_type": "stream",
          "name": "stdout",
          "text": [
            "prompt_question: summar least 3 element ideal tragedy, describ aristotle.\n"
          ]
        }
      ]
    },
    {
      "cell_type": "code",
      "source": [
        "prompt_t_text = prompt_t.prompt_text\n",
        "prompt_t_text = prompt_t_text.map(process)\n",
        "print(f'prompt_text: {prompt_t_text[0]}')"
      ],
      "metadata": {
        "colab": {
          "base_uri": "https://localhost:8080/"
        },
        "id": "WtOte6YsrqjT",
        "outputId": "3aee8000-15c8-465d-b3a7-b938a62ca534"
      },
      "execution_count": null,
      "outputs": [
        {
          "output_type": "stream",
          "name": "stdout",
          "text": [
            "prompt_text: chapter 13 as sequel alreadi said, must proceed consid poet aim at, avoid, construct plots; mean specif effect tragedi produced. a perfect tragedi should, seen, arrang simpl complex plan. it should, moreover, imit action excit piti fear, distinct mark tragic imitation. it follow plainly, first place, chang fortun present must spectacl virtuou man brought prosper adversity: move neither piti fear; mere shock us. nor, again, bad man pass advers prosperity: noth alien spirit tragedy; possess singl tragic quality; neither satisfi moral sens call forth piti fear. nor, again, downfal utter villain exhibited. a plot kind would, doubtless, satisfi moral sense, would inspir neither piti fear; piti arous unmerit misfortune, fear misfortun man like ourselves. such event, therefore, neither piti terrible. there remains, then, charact two extrem — man emin good just, yet whose misfortun brought vice depravity, error judgement frailty. he must one highli renown prosper — personag like oedipus, thyestes, illustri men families. a well-construct plot should, therefore, singl issue, rather doubl maintain. the chang fortun bad good, but, reversely, good bad. it come result vice, great error frailty, charact either described, better rather worse. the practic stage bear view. at first poet recount legend came way. now, best tragedi found stori hous — fortun alcmaeon, oedipus, orestes, meleager, thyestes, telephus, other done suffer someth terrible. a tragedy, then, perfect accord rule art, construction. henc error censur euripid follow principl plays, mani end unhappily. it is, said, right ending. the best proof stage dramat competition, plays, well work out, tragic effect; euripides, faulti though may gener manag subject, yet felt tragic poets. in second rank come kind tragedi place first. like odyssey, doubl thread plot, also opposit catastroph good bad. it account best weak spectators; poet guid write wish audience. the pleasure, however, thenc deriv true tragic pleasure. it proper rather comedy, who, piece, deadliest enemi — like orest aegisthu — quit stage friend close, one slay slain.\n"
          ]
        }
      ]
    },
    {
      "cell_type": "code",
      "source": [
        "# padding\n",
        "prompt_t_q = tf.keras.preprocessing.sequence.pad_sequences(tokenizer.texts_to_sequences(prompt_t_q), maxlen=380)\n",
        "print(prompt_t_q.shape)"
      ],
      "metadata": {
        "colab": {
          "base_uri": "https://localhost:8080/"
        },
        "id": "BjXrSRLRr3aQ",
        "outputId": "4379305e-35d2-4251-f1e5-b2aedc2f8bd0"
      },
      "execution_count": null,
      "outputs": [
        {
          "output_type": "stream",
          "name": "stdout",
          "text": [
            "(4, 380)\n"
          ]
        }
      ]
    },
    {
      "cell_type": "code",
      "source": [
        "# padding\n",
        "prompt_t_text = tf.keras.preprocessing.sequence.pad_sequences(tokenizer.texts_to_sequences(prompt_t_text), maxlen=380)\n",
        "print(prompt_t_text.shape)"
      ],
      "metadata": {
        "colab": {
          "base_uri": "https://localhost:8080/"
        },
        "id": "CUJWgapqr_VI",
        "outputId": "7e1bc132-2634-4662-a7cb-731c2074fbf3"
      },
      "execution_count": null,
      "outputs": [
        {
          "output_type": "stream",
          "name": "stdout",
          "text": [
            "(4, 380)\n"
          ]
        }
      ]
    },
    {
      "cell_type": "markdown",
      "source": [
        "#### summries & prompts"
      ],
      "metadata": {
        "id": "vT5NS-1egFBO"
      }
    },
    {
      "cell_type": "markdown",
      "source": [
        "## Model\n",
        "\n",
        "Model Build --> Hyperparameters Optimization --> Model Training --> Training Visualization\n",
        "\n",
        "1. content >>> wording score"
      ],
      "metadata": {
        "id": "Hz6jzv3dgJdW"
      }
    },
    {
      "cell_type": "markdown",
      "source": [
        "#### Content >>> Wording Score"
      ],
      "metadata": {
        "id": "-wUvUzY9FzIl"
      }
    },
    {
      "cell_type": "code",
      "source": [
        "X = summ_t_text\n",
        "y = summ_t.wording.values"
      ],
      "metadata": {
        "id": "X9_8GI-zRgUn"
      },
      "execution_count": null,
      "outputs": []
    },
    {
      "cell_type": "code",
      "source": [
        "%pip install optuna"
      ],
      "metadata": {
        "id": "WkQ2WUOb_7EB"
      },
      "execution_count": null,
      "outputs": []
    },
    {
      "cell_type": "markdown",
      "source": [
        "##### Hyper Parameters Optimization"
      ],
      "metadata": {
        "id": "U6-sg1dURqcG"
      }
    },
    {
      "cell_type": "code",
      "source": [
        "import optuna\n",
        "from optuna.visualization import plot_optimization_history\n",
        "from sklearn.model_selection import train_test_split\n",
        "\n",
        "\n",
        "def objective(trial, X=X, y=y):\n",
        "    \"\"\"\n",
        "    A function to train a model using different hyperparamerters combinations provided by Optuna.\n",
        "    \"\"\"\n",
        "    X_train, X_valid, y_train, y_valid = train_test_split(X, y, test_size=0.3, random_state=42)\n",
        "\n",
        "    params = {\n",
        "        'output_dim': trial.suggest_int('output_dim', 32, 64, 8),\n",
        "        \"LSTM_units\": trial.suggest_int(\"LSTM_units\", 8, 32, 8),\n",
        "        'FC1_output': trial.suggest_int('FC_output', 8, 16, 4),\n",
        "        'batch_size' : trial.suggest_int('batch_size', 32, 128, 32)\n",
        "    }\n",
        "\n",
        "    # Model build\n",
        "    model = keras.Sequential()\n",
        "    model.add(layers.Embedding(input_dim=top_words ,output_dim= params['output_dim'])) # Embedding from total top words dim >> output dim\n",
        "    model.add(layers.LSTM(32))\n",
        "    model.add(layers.Dense(16, activation='relu'))\n",
        "    model.add(layers.Dense(1, activation='sigmoid'))\n",
        "\n",
        "    model.compile(optimizer=tf.keras.optimizers.Adam(1e-3), loss='mse')\n",
        "\n",
        "    model.fit(X_train,y_train,batch_size=params['batch_size'],epochs=10)\n",
        "    mse = tf.keras.losses.MeanSquaredError()\n",
        "\n",
        "\n",
        "    return mse(y_valid, model.predict(X_valid)).numpy()\n",
        "\n",
        "%%time\n",
        "# Creating Optuna object and defining its parameters\n",
        "study = optuna.create_study(direction='minimize')\n",
        "study.optimize(objective, n_trials = 10)\n",
        "\n",
        "# Showing optimization results\n",
        "print('Number of finished trials:', len(study.trials))\n",
        "print('Best trial parameters:', study.best_trial.params)\n",
        "print('Best score:', study.best_value)\n",
        "\n",
        "plotly_config = {\"staticPlot\": True}\n",
        "\n",
        "fig = plot_optimization_history(study)\n",
        "fig.show(config=plotly_config)"
      ],
      "metadata": {
        "id": "JBglOOFa_tPj"
      },
      "execution_count": null,
      "outputs": []
    },
    {
      "cell_type": "code",
      "source": [
        "hp_dict = study.best_trial.params\n",
        "print(hp_dict)"
      ],
      "metadata": {
        "colab": {
          "base_uri": "https://localhost:8080/"
        },
        "id": "nAsaERNOIVON",
        "outputId": "8e2ebe91-f6ca-4b3c-afe9-579b321edb54"
      },
      "execution_count": null,
      "outputs": [
        {
          "output_type": "execute_result",
          "data": {
            "text/plain": [
              "{'output_dim': 48,\n",
              " 'LSTM_units': 8,\n",
              " 'FC_output': 12,\n",
              " 'FC1_activation': 'LeakyReLu',\n",
              " 'batch_size': 32}"
            ]
          },
          "metadata": {},
          "execution_count": 192
        }
      ]
    },
    {
      "cell_type": "markdown",
      "source": [
        "##### Model Training"
      ],
      "metadata": {
        "id": "pH2Dpr4HSGju"
      }
    },
    {
      "cell_type": "code",
      "source": [
        "X_train, X_test, y_train, y_test = train_test_split(X, y, test_size=0.3, random_state=42)\n",
        "\n",
        "print(X_train.shape, y_train.shape, X_test.shape, y_test.shape)\n",
        "\n",
        "model = keras.Sequential()\n",
        "model.add(layers.Embedding(input_dim=top_words ,output_dim=hp_dict['output_dim'])) # Embedding from total top words dim >> output dim\n",
        "model.add(layers.LSTM(hp_dict['LSTM_units']))\n",
        "model.add(layers.Dense(hp_dict['FC_output'], activation='relu'))\n",
        "model.add(layers.Dense(1, activation='sigmoid'))\n",
        "\n",
        "print(model.summary())\n"
      ],
      "metadata": {
        "id": "hwQev7JUgImk",
        "colab": {
          "base_uri": "https://localhost:8080/"
        },
        "outputId": "807b917b-f3fb-458c-b1ae-5cf2a3450ce4"
      },
      "execution_count": null,
      "outputs": [
        {
          "output_type": "stream",
          "name": "stdout",
          "text": [
            "(5015, 100) (5015,) (2150, 100) (2150,)\n",
            "Model: \"sequential_33\"\n",
            "_________________________________________________________________\n",
            " Layer (type)                Output Shape              Param #   \n",
            "=================================================================\n",
            " embedding_32 (Embedding)    (None, None, 48)          240000    \n",
            "                                                                 \n",
            " lstm_28 (LSTM)              (None, 8)                 1824      \n",
            "                                                                 \n",
            " dense_51 (Dense)            (None, 12)                108       \n",
            "                                                                 \n",
            " dense_52 (Dense)            (None, 1)                 13        \n",
            "                                                                 \n",
            "=================================================================\n",
            "Total params: 241945 (945.10 KB)\n",
            "Trainable params: 241945 (945.10 KB)\n",
            "Non-trainable params: 0 (0.00 Byte)\n",
            "_________________________________________________________________\n",
            "None\n"
          ]
        }
      ]
    },
    {
      "cell_type": "markdown",
      "source": [
        "Call Back : https://ithelp.ithome.com.tw/articles/10234641"
      ],
      "metadata": {
        "id": "8DcFTQL3LqvA"
      }
    },
    {
      "cell_type": "markdown",
      "source": [
        "##### Training Visualization"
      ],
      "metadata": {
        "id": "H0Ovt_CdSTVB"
      }
    },
    {
      "cell_type": "code",
      "source": [
        "my_callbacks = [\n",
        "    # Stop training when performance not improving\n",
        "    tf.keras.callbacks.EarlyStopping(patience=5, monitor = 'val_loss'),\n",
        "    # Automatic adjust learning rate\n",
        "    tf.keras.callbacks.ReduceLROnPlateau(monitor='val_loss', factor=0.2, patience=3, min_lr=1e-5),\n",
        "]\n",
        "\n",
        "model.compile(optimizer=tf.keras.optimizers.Adam(1e-3), loss='mse')\n",
        "\n",
        "history = model.fit(X_train,y_train, validation_data = (X_test, y_test),batch_size=study.best_trial.params['batch_size'],epochs=30 ,callbacks=my_callbacks)"
      ],
      "metadata": {
        "colab": {
          "base_uri": "https://localhost:8080/"
        },
        "id": "6xSaPahBKsUP",
        "outputId": "416edfa9-257c-4fd2-f032-4467540a6e7d"
      },
      "execution_count": null,
      "outputs": [
        {
          "output_type": "stream",
          "name": "stdout",
          "text": [
            "Epoch 1/30\n",
            "157/157 [==============================] - 10s 52ms/step - loss: 0.6901 - val_loss: 0.8077 - lr: 0.0010\n",
            "Epoch 2/30\n",
            "157/157 [==============================] - 7s 45ms/step - loss: 0.6900 - val_loss: 0.8037 - lr: 0.0010\n",
            "Epoch 3/30\n",
            "157/157 [==============================] - 7s 43ms/step - loss: 0.6874 - val_loss: 0.8066 - lr: 0.0010\n",
            "Epoch 4/30\n",
            "157/157 [==============================] - 8s 51ms/step - loss: 0.6853 - val_loss: 0.8074 - lr: 0.0010\n",
            "Epoch 5/30\n",
            "157/157 [==============================] - 7s 43ms/step - loss: 0.6866 - val_loss: 0.8061 - lr: 0.0010\n",
            "Epoch 6/30\n",
            "157/157 [==============================] - 8s 48ms/step - loss: 0.6817 - val_loss: 0.8063 - lr: 2.0000e-04\n",
            "Epoch 7/30\n",
            "157/157 [==============================] - 6s 40ms/step - loss: 0.6802 - val_loss: 0.8067 - lr: 2.0000e-04\n"
          ]
        }
      ]
    },
    {
      "cell_type": "code",
      "source": [
        "import matplotlib.pyplot as plt\n",
        "plt.plot(history.history['loss'])\n",
        "plt.plot(history.history['val_loss'])\n",
        "plt.title('Model loss RNN')\n",
        "plt.ylabel('Loss')\n",
        "plt.xlabel('Epoch')\n",
        "plt.legend(['train_loss', 'val_loss'], loc='upper left')\n",
        "plt.show()"
      ],
      "metadata": {
        "id": "8Cad57-tsCXL",
        "colab": {
          "base_uri": "https://localhost:8080/",
          "height": 472
        },
        "outputId": "4b38368f-6c66-4a8b-b266-d07d86b8ad30"
      },
      "execution_count": null,
      "outputs": [
        {
          "output_type": "display_data",
          "data": {
            "text/plain": [
              "<Figure size 640x480 with 1 Axes>"
            ],
            "image/png": "[encoded data removed]"
          },
          "metadata": {}
        }
      ]
    },
    {
      "cell_type": "code",
      "source": [],
      "metadata": {
        "id": "r7RdIQubzUOE"
      },
      "execution_count": null,
      "outputs": []
    }
  ]
}